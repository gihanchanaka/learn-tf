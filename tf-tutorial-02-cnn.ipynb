{
 "cells": [
  {
   "cell_type": "code",
   "execution_count": 1,
   "metadata": {},
   "outputs": [],
   "source": [
    "from tensorflow.examples.tutorials.mnist import input_data\n",
    "import matplotlib.pyplot as plt\n",
    "import tensorflow as tf\n",
    "import numpy as np\n",
    "from sklearn.metrics import confusion_matrix\n",
    "import time\n",
    "import math"
   ]
  },
  {
   "cell_type": "code",
   "execution_count": 3,
   "metadata": {},
   "outputs": [
    {
     "name": "stdout",
     "output_type": "stream",
     "text": [
      "Extracting data/MNIST/train-images-idx3-ubyte.gz\n",
      "Extracting data/MNIST/train-labels-idx1-ubyte.gz\n",
      "Extracting data/MNIST/t10k-images-idx3-ubyte.gz\n",
      "Extracting data/MNIST/t10k-labels-idx1-ubyte.gz\n",
      "Size of:\n",
      "Training set \t\t55000\n",
      "Test set\t\t10000\n",
      "Validation set\t\t5000\n"
     ]
    }
   ],
   "source": [
    "data=input_data.read_data_sets(\"data/MNIST/\",one_hot=True) \n",
    "data.test.cls = tf.argmax(data.test.labels, axis=1)\n",
    "#one_hot= Whether to make the labels into a binary array\n",
    "print(\"Size of:\")\n",
    "print(\"Training set \\t\\t{}\".format(len(data.train.labels)))\n",
    "print(\"Test set\\t\\t{}\".format(len(data.test.labels)))\n",
    "print(\"Validation set\\t\\t{}\".format(len(data.validation.labels)))"
   ]
  },
  {
   "cell_type": "code",
   "execution_count": 4,
   "metadata": {},
   "outputs": [],
   "source": [
    "imgSize=28\n",
    "imgSizeFlat=imgSize*imgSize\n",
    "imgShape=(imgSize,imgSize)\n",
    "noClasses=10\n",
    "noColorChannels=1\n",
    "batchSize=100"
   ]
  },
  {
   "cell_type": "code",
   "execution_count": 5,
   "metadata": {},
   "outputs": [],
   "source": [
    "xFlat=tf.placeholder(tf.float32,shape=[None,imgSizeFlat],name='xFlat')\n",
    "x2D=tf.reshape(xFlat,[-1,imgSize,imgSize,noColorChannels])\n",
    "yTrue=tf.placeholder(tf.float32,shape=[None,noClasses],name='yTrue')\n",
    "yTrueClass=tf.argmax(yTrue,axis=1)"
   ]
  },
  {
   "cell_type": "code",
   "execution_count": 6,
   "metadata": {},
   "outputs": [],
   "source": [
    "'''layer_conv1, weights_conv1 = \\\n",
    "    new_conv_layer(input=x_image,\n",
    "                   num_input_channels=num_channels,\n",
    "                   filter_size=filter_size1,\n",
    "                   num_filters=num_filters1,\n",
    "                   use_pooling=True)'''\n",
    "\n",
    "layer1_filterLength=5\n",
    "layer1_filterHeight=5\n",
    "layer1_noFilters=10\n",
    "\n",
    "layer1_shape=[layer1_filterLength,layer1_filterHeight,noColorChannels,layer1_noFilters]\n",
    "layer1_weights=tf.Variable(tf.truncated_normal(layer1_shape,stddev=0.5))\n",
    "layer1_biases=tf.Variable(tf.constant(0.05,shape=[layer1_noFilters]))\n",
    "layer1_out=tf.nn.conv2d(input=x2D,filter=layer1_weights,strides=[1,1,1,1],padding='SAME')\n",
    "#strides=[img,x,y,colourChannel]\n",
    "layer1_out=layer1_out+layer1_biases\n",
    "layer1_out=tf.nn.max_pool(value=layer1_out,ksize=[1,2,2,1],strides=[1,2,2,1],padding='SAME')\n",
    "layer1_out=tf.nn.relu(layer1_out)"
   ]
  },
  {
   "cell_type": "code",
   "execution_count": 7,
   "metadata": {},
   "outputs": [],
   "source": [
    "'''layer_conv2, weights_conv2 = \\\n",
    "    new_conv_layer(input=layer_conv1,\n",
    "                   num_input_channels=num_filters1,\n",
    "                   filter_size=filter_size2,\n",
    "                   num_filters=num_filters2,\n",
    "                   use_pooling=True)'''\n",
    "\n",
    "\n",
    "layer2_filterLength=2\n",
    "layer2_filterHeight=2\n",
    "layer2_noFilters=5\n",
    "\n",
    "layer2_shape=[layer2_filterLength,layer2_filterHeight,layer1_noFilters,layer2_noFilters]\n",
    "layer2_weights=tf.Variable(tf.truncated_normal(layer2_shape,stddev=0.5))\n",
    "layer2_biases=tf.Variable(tf.constant(0.05,shape=[layer2_noFilters]))\n",
    "layer2_out=tf.nn.conv2d(input=layer1_out,filter=layer2_weights,strides=[1,2,2,1],padding='SAME')\n",
    "#strides=[img,x,y,colourChannel]\n",
    "layer2_out=layer2_out+layer2_biases\n",
    "#layer2_out=tf.nn.max_pool(value=layer1_out,ksize=[1,2,2,1],strides=[1,2,2,1],padding='SAME')\n",
    "layer2_out=tf.nn.relu(layer2_out)"
   ]
  },
  {
   "cell_type": "code",
   "execution_count": 8,
   "metadata": {},
   "outputs": [],
   "source": [
    "'''layer_flat, num_features = flatten_layer(layer_conv2)'''\n",
    "layer3_shape=layer2_out.get_shape()  # layer_shape == [num_images, img_height, img_width, num_channels]\n",
    "layer3_noFeatures=int(layer3_shape[1]*layer3_shape[2]*layer3_shape[3])\n",
    "layer3_out=tf.reshape(layer2_out,[-1,layer3_noFeatures])\n",
    "# The shape of the flattened layer is now:\n",
    "# [num_images, img_height * img_width * num_channels] -1 means \"caclculate this axis size\"\n",
    "\n",
    "\n",
    "\n",
    "\n"
   ]
  },
  {
   "cell_type": "code",
   "execution_count": 9,
   "metadata": {},
   "outputs": [
    {
     "name": "stdout",
     "output_type": "stream",
     "text": [
      "[245, 100]\n"
     ]
    }
   ],
   "source": [
    "'''layer_fc1 = new_fc_layer(input=layer_flat,\n",
    "                         num_inputs=num_features,\n",
    "                         num_outputs=fc_size,\n",
    "                         use_relu=True)'''\n",
    "layer4_outSize=100\n",
    "layer4_shape=[layer3_noFeatures,layer4_outSize]\n",
    "print(layer4_shape)\n",
    "layer4_weights=tf.Variable(tf.truncated_normal(layer4_shape,stddev=0.5))\n",
    "layer4_biases=tf.Variable(tf.constant(0.05,shape=[layer4_outSize]))\n",
    "layer4_out=tf.matmul(layer3_out,layer4_weights)+layer4_biases\n",
    "layer4_out=tf.nn.relu(layer4_out)"
   ]
  },
  {
   "cell_type": "code",
   "execution_count": 22,
   "metadata": {},
   "outputs": [
    {
     "name": "stdout",
     "output_type": "stream",
     "text": [
      "[100, 10]\n"
     ]
    }
   ],
   "source": [
    "'''\n",
    "layer_fc2 = new_fc_layer(input=layer_fc1,\n",
    "                         num_inputs=fc_size,\n",
    "                         num_outputs=num_classes,\n",
    "                         use_relu=False)'''\n",
    "\n",
    "layer5_outSize=10\n",
    "layer5_shape=[layer4_outSize,layer5_outSize]\n",
    "print(layer5_shape)\n",
    "layer5_weights=tf.Variable(tf.truncated_normal(layer5_shape,stddev=0.5))\n",
    "layer5_biases=tf.Variable(tf.constant(0.05,shape=[layer5_outSize]))\n",
    "layer5_out=tf.matmul(layer4_out,layer5_weights)+layer5_biases\n",
    "layer5_out=tf.nn.relu(layer5_out)"
   ]
  },
  {
   "cell_type": "code",
   "execution_count": 11,
   "metadata": {},
   "outputs": [],
   "source": [
    "yPred=tf.nn.softmax(layer5_out)\n",
    "yPredClass=tf.argmax(yPred,axis=1)"
   ]
  },
  {
   "cell_type": "code",
   "execution_count": 12,
   "metadata": {},
   "outputs": [],
   "source": [
    "crossEntropy=tf.nn.softmax_cross_entropy_with_logits_v2(logits=layer5_out,labels=yTrue)\n",
    "cost=tf.reduce_mean(crossEntropy)\n",
    "optimizer=tf.train.AdamOptimizer(learning_rate=0.01).minimize(cost)\n",
    "correctPrediction=tf.equal(yPredClass,yTrueClass)\n",
    "accuracy=tf.reduce_mean(tf.cast(correctPrediction,tf.float32))\n"
   ]
  },
  {
   "cell_type": "code",
   "execution_count": 13,
   "metadata": {},
   "outputs": [],
   "source": [
    "currentTotalIterations=0\n",
    "def optimize(noIterations):\n",
    "    global currentTotalIterations\n",
    "    \n",
    "    for it in range(currentTotalIterations,currentTotalIterations+noIterations):\n",
    "        #xBatch,yTrueBatch=data.random_batch(batch_size=batchSize)\n",
    "        #sess.run(optimizer,feed_dict={x:xBatch,y:yTrueBatch})\n",
    "        \n",
    "        sess.run(optimizer,feed_dict={xFlat:data.train.images,yTrue:data.train.labels})\n",
    "        \n",
    "        if it%1 == 0:\n",
    "            feedDict2={xFlat:data.train.images,yTrue:data.train.labels}\n",
    "\n",
    "            acc=sess.run(accuracy,feed_dict=feedDict2)\n",
    "\n",
    "            print(\"Training iteration {} : accuracy {}.\".format(it+1,acc))\n",
    "    \n",
    "    currentTotalIterations+=noIterations"
   ]
  },
  {
   "cell_type": "code",
   "execution_count": 14,
   "metadata": {},
   "outputs": [],
   "source": [
    "def plotImages(images,clsTarget,clsPred=None):\n",
    "    #print(\"DEBUG:{}\".format(len(images)))\n",
    "    assert len(images)==len(clsTarget)==9\n",
    "    fig,axes=plt.subplots(3,3)\n",
    "    fig.subplots_adjust(hspace=0.4,wspace=0.4)\n",
    "    \n",
    "    for idx,ax in enumerate(axes.flat):\n",
    "        ax.imshow(images[idx].reshape(imgShape),cmap='binary')\n",
    "        if clsPred.all()==None:\n",
    "            ax.set_xlabel(\"True: {}\".format(clsTarget[idx]))\n",
    "        else:\n",
    "            ax.set_xlabel(\"True: {} Predicted: {}\".format(np.argmax(clsTarget[idx]),clsPred[idx]))\n",
    "            \n",
    "        ax.set_xticks([])\n",
    "        ax.set_yticks([])"
   ]
  },
  {
   "cell_type": "code",
   "execution_count": 15,
   "metadata": {},
   "outputs": [],
   "source": [
    "def plot9Errors(yTrueClass,yPredClass):\n",
    "    correct=np.equal(yTrueClass,yPredClass)\n",
    "    incorrect = (correct == False)\n",
    "    images = data.test.images[incorrect]\n",
    "    yPredClass = yPredClass[incorrect]\n",
    "\n",
    "    # Get the true classes for those images.\n",
    "    yTrueClass = data.test.labels[incorrect]\n",
    "    \n",
    "    # Plot the first 9 images.\n",
    "    plotImages(images=images[0:9,:],\n",
    "               clsPred=yPredClass[0:9], \n",
    "               clsTarget=yTrueClass[0:9]\n",
    "                )"
   ]
  },
  {
   "cell_type": "code",
   "execution_count": 16,
   "metadata": {},
   "outputs": [],
   "source": [
    "def printConfusionMatrix(yTrueTemp,yPredTemp):\n",
    "    accuracy\n",
    "    \n",
    "    cm=confusion_matrix(y_true=yTrueTemp,y_pred=yPredTemp)\n",
    "    print(cm)\n",
    "    plt.matshow(cm)\n",
    "    plt.colorbar()\n",
    "    tick_marks = np.arange(noClasses)\n",
    "    plt.xticks(tick_marks, range(noClasses))\n",
    "    plt.yticks(tick_marks, range(noClasses))\n",
    "    plt.xlabel('Predicted')\n",
    "    plt.ylabel('True')\n",
    "    plt.show()\n",
    "    "
   ]
  },
  {
   "cell_type": "code",
   "execution_count": 17,
   "metadata": {},
   "outputs": [],
   "source": [
    "def printTestAccuracy():\n",
    "    feedDict2={xFlat:data.test.images,yTrue:data.test.labels}\n",
    "\n",
    "    yTrueClassTemp=sess.run(yTrueClass,{yTrue:data.test.labels})\n",
    "    yPredClassTemp=sess.run(yPredClass,{xFlat:data.test.images})\n",
    "    \n",
    "    acc=sess.run(accuracy,feed_dict=feedDict2)\n",
    "    \n",
    "    print(\"Accuracy on test set: {}\".format(acc))\n",
    "    \n",
    "    printConfusionMatrix(yTrueClassTemp,yPredClassTemp)\n",
    "    plot9Errors(yTrueClassTemp,yPredClassTemp)\n",
    "    \n",
    "    \n",
    "    \n",
    "    \n"
   ]
  },
  {
   "cell_type": "code",
   "execution_count": 18,
   "metadata": {},
   "outputs": [
    {
     "data": {
      "text/plain": [
       "<tf.Tensor 'Mean_1:0' shape=() dtype=float32>"
      ]
     },
     "execution_count": 18,
     "metadata": {},
     "output_type": "execute_result"
    }
   ],
   "source": [
    "sess = tf.Session()\n",
    "sess.run(tf.global_variables_initializer())\n",
    "accuracy"
   ]
  },
  {
   "cell_type": "code",
   "execution_count": 19,
   "metadata": {},
   "outputs": [
    {
     "name": "stdout",
     "output_type": "stream",
     "text": [
      "Accuracy on test set: 0.11490000039339066\n",
      "[[634  50  83   1   9  21   8   3 163   8]\n",
      " [596 144 187   1   7   2 157   2  18  21]\n",
      " [691  70 170   0   3   2  27   3  57   9]\n",
      " [769  36 127   0  14  11   4   2  35  12]\n",
      " [506 133  50   5  28  15  17  21 199   8]\n",
      " [450 105  29   6  67  14   4  59 144  14]\n",
      " [270 209 180   1 111  23   8   2 128  26]\n",
      " [567   6 138   2  18   2  62  18 212   3]\n",
      " [664  66  36   4  23   5  26  17 129   4]\n",
      " [485  24 135   1  17   0  26  25 292   4]]\n"
     ]
    },
    {
     "data": {
      "image/png": "[encoded data removed]",
      "text/plain": [
       "<Figure size 288x288 with 2 Axes>"
      ]
     },
     "metadata": {
      "needs_background": "light"
     },
     "output_type": "display_data"
    },
    {
     "data": {
      "image/png": "[encoded data removed]",
      "text/plain": [
       "<Figure size 432x288 with 9 Axes>"
      ]
     },
     "metadata": {},
     "output_type": "display_data"
    }
   ],
   "source": [
    "printTestAccuracy()"
   ]
  },
  {
   "cell_type": "code",
   "execution_count": 20,
   "metadata": {},
   "outputs": [
    {
     "name": "stdout",
     "output_type": "stream",
     "text": [
      "Training iteration 1 : accuracy 0.11505454778671265.\n",
      "Accuracy on test set: 0.11550000309944153\n",
      "[[602  54  91   1  14  27  10   2 170   9]\n",
      " [558 150 198   1   9   4 171   1  22  21]\n",
      " [664  73 183   1   4   4  31   3  59  10]\n",
      " [731  42 149   0  17  14   6   3  35  13]\n",
      " [479 133  55  10  33  21  19  21 202   9]\n",
      " [421 109  32   6  80  19   6  57 148  14]\n",
      " [240 205 197   1 120  28  10   5 123  29]\n",
      " [524   8 148   6  20   2  74  21 223   2]\n",
      " [627  76  41   6  27   8  29  19 135   6]\n",
      " [457  23 138   1  22   2  28  36 300   2]]\n"
     ]
    },
    {
     "data": {
      "image/png": "[encoded data removed]",
      "text/plain": [
       "<Figure size 288x288 with 2 Axes>"
      ]
     },
     "metadata": {
      "needs_background": "light"
     },
     "output_type": "display_data"
    },
    {
     "data": {
      "image/png": "[encoded data removed]",
      "text/plain": [
       "<Figure size 432x288 with 9 Axes>"
      ]
     },
     "metadata": {},
     "output_type": "display_data"
    }
   ],
   "source": [
    "optimize(1)\n",
    "printTestAccuracy()"
   ]
  },
  {
   "cell_type": "code",
   "execution_count": null,
   "metadata": {},
   "outputs": [
    {
     "name": "stdout",
     "output_type": "stream",
     "text": [
      "Training iteration 2 : accuracy 0.12025454640388489.\n",
      "Training iteration 3 : accuracy 0.12201818078756332.\n",
      "Training iteration 4 : accuracy 0.12376363575458527.\n"
     ]
    }
   ],
   "source": [
    "optimize(9)\n",
    "printTestAccuracy()"
   ]
  },
  {
   "cell_type": "code",
   "execution_count": null,
   "metadata": {},
   "outputs": [],
   "source": [
    "optimize(90)\n",
    "printTestAccuracy()"
   ]
  },
  {
   "cell_type": "markdown",
   "metadata": {},
   "source": []
  }
 ],
 "metadata": {
  "kernelspec": {
   "display_name": "Python 3",
   "language": "python",
   "name": "python3"
  },
  "language_info": {
   "codemirror_mode": {
    "name": "ipython",
    "version": 3
   },
   "file_extension": ".py",
   "mimetype": "text/x-python",
   "name": "python",
   "nbconvert_exporter": "python",
   "pygments_lexer": "ipython3",
   "version": "3.5.6"
  }
 },
 "nbformat": 4,
 "nbformat_minor": 2
}
