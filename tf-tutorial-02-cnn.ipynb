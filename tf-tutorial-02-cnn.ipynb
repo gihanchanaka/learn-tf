{
 "cells": [
  {
   "cell_type": "code",
   "execution_count": 44,
   "metadata": {},
   "outputs": [],
   "source": [
    "from tensorflow.examples.tutorials.mnist import input_data\n",
    "import matplotlib.pyplot as plt\n",
    "import tensorflow as tf\n",
    "import numpy as np\n",
    "from sklearn.metrics import confusion_matrix\n",
    "import time\n",
    "import math"
   ]
  },
  {
   "cell_type": "code",
   "execution_count": 45,
   "metadata": {},
   "outputs": [
    {
     "name": "stdout",
     "output_type": "stream",
     "text": [
      "Extracting data/MNIST/train-images-idx3-ubyte.gz\n",
      "Extracting data/MNIST/train-labels-idx1-ubyte.gz\n",
      "Extracting data/MNIST/t10k-images-idx3-ubyte.gz\n",
      "Extracting data/MNIST/t10k-labels-idx1-ubyte.gz\n",
      "Size of:\n",
      "Training set \t\t55000\n",
      "Test set\t\t10000\n",
      "Validation set\t\t5000\n"
     ]
    }
   ],
   "source": [
    "data=input_data.read_data_sets(\"data/MNIST/\",one_hot=True) \n",
    "data.test.cls = tf.argmax(data.test.labels, axis=1)\n",
    "#one_hot= Whether to make the labels into a binary array\n",
    "print(\"Size of:\")\n",
    "print(\"Training set \\t\\t{}\".format(len(data.train.labels)))\n",
    "print(\"Test set\\t\\t{}\".format(len(data.test.labels)))\n",
    "print(\"Validation set\\t\\t{}\".format(len(data.validation.labels)))"
   ]
  },
  {
   "cell_type": "code",
   "execution_count": 66,
   "metadata": {},
   "outputs": [],
   "source": [
    "imgSize=28\n",
    "imgSizeFlat=imgSize*imgSize\n",
    "imgShape=(imgSize,imgSize)\n",
    "noClasses=10\n",
    "noColorChannels=1\n",
    "batchSize=100\n",
    "logs_path = \"./logs/02/visualize_graph\""
   ]
  },
  {
   "cell_type": "code",
   "execution_count": 47,
   "metadata": {},
   "outputs": [],
   "source": [
    "xFlat=tf.placeholder(tf.float32,shape=[None,imgSizeFlat],name='xFlat')\n",
    "x2D=tf.reshape(xFlat,[-1,imgSize,imgSize,noColorChannels])\n",
    "yTrue=tf.placeholder(tf.float32,shape=[None,noClasses],name='yTrue')\n",
    "yTrueClass=tf.argmax(yTrue,axis=1)"
   ]
  },
  {
   "cell_type": "code",
   "execution_count": 48,
   "metadata": {},
   "outputs": [],
   "source": [
    "'''layer_conv1, weights_conv1 = \\\n",
    "    new_conv_layer(input=x_image,\n",
    "                   num_input_channels=num_channels,\n",
    "                   filter_size=filter_size1,\n",
    "                   num_filters=num_filters1,\n",
    "                   use_pooling=True)'''\n",
    "\n",
    "layer1_filterLength=5\n",
    "layer1_filterHeight=5\n",
    "layer1_noFilters=16\n",
    "\n",
    "layer1_shape=[layer1_filterLength,layer1_filterHeight,noColorChannels,layer1_noFilters]\n",
    "layer1_weights=tf.Variable(tf.truncated_normal(layer1_shape,stddev=0.5))\n",
    "layer1_biases=tf.Variable(tf.constant(0.05,shape=[layer1_noFilters]))\n",
    "layer1_out=tf.nn.conv2d(input=x2D,filter=layer1_weights,strides=[1,1,1,1],padding='SAME')\n",
    "#strides=[img,x,y,colourChannel]\n",
    "layer1_out=layer1_out+layer1_biases\n",
    "layer1_out=tf.nn.max_pool(value=layer1_out,ksize=[1,2,2,1],strides=[1,2,2,1],padding='SAME')\n",
    "layer1_out=tf.nn.relu(layer1_out)"
   ]
  },
  {
   "cell_type": "code",
   "execution_count": 49,
   "metadata": {},
   "outputs": [],
   "source": [
    "'''layer_conv2, weights_conv2 = \\\n",
    "    new_conv_layer(input=layer_conv1,\n",
    "                   num_input_channels=num_filters1,\n",
    "                   filter_size=filter_size2,\n",
    "                   num_filters=num_filters2,\n",
    "                   use_pooling=True)'''\n",
    "\n",
    "\n",
    "layer2_filterLength=5\n",
    "layer2_filterHeight=5\n",
    "layer2_noFilters=36\n",
    "\n",
    "layer2_shape=[layer2_filterLength,layer2_filterHeight,layer1_noFilters,layer2_noFilters]\n",
    "layer2_weights=tf.Variable(tf.truncated_normal(layer2_shape,stddev=0.5))\n",
    "layer2_biases=tf.Variable(tf.constant(0.05,shape=[layer2_noFilters]))\n",
    "layer2_out=tf.nn.conv2d(input=layer1_out,filter=layer2_weights,strides=[1,2,2,1],padding='SAME')\n",
    "#strides=[img,x,y,colourChannel]\n",
    "layer2_out=layer2_out+layer2_biases\n",
    "#layer2_out=tf.nn.max_pool(value=layer1_out,ksize=[1,2,2,1],strides=[1,2,2,1],padding='SAME')\n",
    "layer2_out=tf.nn.relu(layer2_out)"
   ]
  },
  {
   "cell_type": "code",
   "execution_count": 50,
   "metadata": {},
   "outputs": [],
   "source": [
    "'''layer_flat, num_features = flatten_layer(layer_conv2)'''\n",
    "layer3_shape=layer2_out.get_shape()  # layer_shape == [num_images, img_height, img_width, num_channels]\n",
    "layer3_noFeatures=int(layer3_shape[1]*layer3_shape[2]*layer3_shape[3])\n",
    "layer3_out=tf.reshape(layer2_out,[-1,layer3_noFeatures])\n",
    "# The shape of the flattened layer is now:\n",
    "# [num_images, img_height * img_width * num_channels] -1 means \"caclculate this axis size\"\n",
    "\n",
    "\n",
    "\n",
    "\n"
   ]
  },
  {
   "cell_type": "code",
   "execution_count": 51,
   "metadata": {},
   "outputs": [
    {
     "name": "stdout",
     "output_type": "stream",
     "text": [
      "[1764, 128]\n"
     ]
    }
   ],
   "source": [
    "'''layer_fc1 = new_fc_layer(input=layer_flat,\n",
    "                         num_inputs=num_features,\n",
    "                         num_outputs=fc_size,\n",
    "                         use_relu=True)'''\n",
    "layer4_outSize=128\n",
    "layer4_shape=[layer3_noFeatures,layer4_outSize]\n",
    "print(layer4_shape)\n",
    "layer4_weights=tf.Variable(tf.truncated_normal(layer4_shape,stddev=0.5))\n",
    "layer4_biases=tf.Variable(tf.constant(0.05,shape=[layer4_outSize]))\n",
    "layer4_out=tf.matmul(layer3_out,layer4_weights)+layer4_biases\n",
    "layer4_out=tf.nn.relu(layer4_out)"
   ]
  },
  {
   "cell_type": "code",
   "execution_count": 52,
   "metadata": {},
   "outputs": [
    {
     "name": "stdout",
     "output_type": "stream",
     "text": [
      "[128, 10]\n"
     ]
    }
   ],
   "source": [
    "'''\n",
    "layer_fc2 = new_fc_layer(input=layer_fc1,\n",
    "                         num_inputs=fc_size,\n",
    "                         num_outputs=num_classes,\n",
    "                         use_relu=False)'''\n",
    "\n",
    "layer5_outSize=10\n",
    "layer5_shape=[layer4_outSize,layer5_outSize]\n",
    "print(layer5_shape)\n",
    "layer5_weights=tf.Variable(tf.truncated_normal(layer5_shape,stddev=0.5))\n",
    "layer5_biases=tf.Variable(tf.constant(0.05,shape=[layer5_outSize]))\n",
    "layer5_out=tf.matmul(layer4_out,layer5_weights)+layer5_biases\n",
    "#layer5_out=tf.nn.relu(layer5_out)"
   ]
  },
  {
   "cell_type": "code",
   "execution_count": 53,
   "metadata": {},
   "outputs": [],
   "source": [
    "yPred=tf.nn.softmax(layer5_out)\n",
    "yPredClass=tf.argmax(yPred,axis=1)"
   ]
  },
  {
   "cell_type": "code",
   "execution_count": 54,
   "metadata": {},
   "outputs": [],
   "source": [
    "crossEntropy=tf.nn.softmax_cross_entropy_with_logits_v2(logits=layer5_out,labels=yTrue)\n",
    "cost=tf.reduce_mean(crossEntropy)\n",
    "optimizer=tf.train.AdamOptimizer(learning_rate=0.01).minimize(cost)\n",
    "correctPrediction=tf.equal(yPredClass,yTrueClass)\n",
    "accuracy=tf.reduce_mean(tf.cast(correctPrediction,tf.float32))\n"
   ]
  },
  {
   "cell_type": "code",
   "execution_count": 67,
   "metadata": {},
   "outputs": [],
   "source": [
    "currentTotalIterations=0\n",
    "def optimize(noIterations):\n",
    "    global currentTotalIterations\n",
    "    \n",
    "    for it in range(currentTotalIterations,currentTotalIterations+noIterations):\n",
    "        #xBatch,yTrueBatch=data.random_batch(batch_size=batchSize)\n",
    "        #sess.run(optimizer,feed_dict={x:xBatch,y:yTrueBatch})\n",
    "        \n",
    "        sess.run(optimizer,feed_dict={xFlat:data.train.images,yTrue:data.train.labels})\n",
    "        \n",
    "        if it%20 == 0:\n",
    "            feedDict2={xFlat:data.train.images,yTrue:data.train.labels}\n",
    "\n",
    "            acc=sess.run(accuracy,feed_dict=feedDict2)\n",
    "\n",
    "            print(\"Training iteration {} : accuracy {}.\".format(it+1,acc))\n",
    "    \n",
    "    currentTotalIterations+=noIterations"
   ]
  },
  {
   "cell_type": "code",
   "execution_count": 56,
   "metadata": {},
   "outputs": [],
   "source": [
    "def plotImages(images,clsTarget,clsPred=None):\n",
    "    #print(\"DEBUG:{}\".format(len(images)))\n",
    "    assert len(images)==len(clsTarget)==9\n",
    "    fig,axes=plt.subplots(3,3)\n",
    "    fig.subplots_adjust(hspace=0.4,wspace=0.4)\n",
    "    \n",
    "    for idx,ax in enumerate(axes.flat):\n",
    "        ax.imshow(images[idx].reshape(imgShape),cmap='binary')\n",
    "        if clsPred.all()==None:\n",
    "            ax.set_xlabel(\"True: {}\".format(clsTarget[idx]))\n",
    "        else:\n",
    "            ax.set_xlabel(\"True: {} Predicted: {}\".format(np.argmax(clsTarget[idx]),clsPred[idx]))\n",
    "            \n",
    "        ax.set_xticks([])\n",
    "        ax.set_yticks([])"
   ]
  },
  {
   "cell_type": "code",
   "execution_count": 57,
   "metadata": {},
   "outputs": [],
   "source": [
    "def plot9Errors(yTrueClass,yPredClass):\n",
    "    correct=np.equal(yTrueClass,yPredClass)\n",
    "    incorrect = (correct == False)\n",
    "    images = data.test.images[incorrect]\n",
    "    yPredClass = yPredClass[incorrect]\n",
    "\n",
    "    # Get the true classes for those images.\n",
    "    yTrueClass = data.test.labels[incorrect]\n",
    "    \n",
    "    # Plot the first 9 images.\n",
    "    plotImages(images=images[0:9,:],\n",
    "               clsPred=yPredClass[0:9], \n",
    "               clsTarget=yTrueClass[0:9]\n",
    "                )"
   ]
  },
  {
   "cell_type": "code",
   "execution_count": 58,
   "metadata": {},
   "outputs": [],
   "source": [
    "def printConfusionMatrix(yTrueTemp,yPredTemp):\n",
    "    accuracy\n",
    "    \n",
    "    cm=confusion_matrix(y_true=yTrueTemp,y_pred=yPredTemp)\n",
    "    print(cm)\n",
    "    plt.matshow(cm)\n",
    "    plt.colorbar()\n",
    "    tick_marks = np.arange(noClasses)\n",
    "    plt.xticks(tick_marks, range(noClasses))\n",
    "    plt.yticks(tick_marks, range(noClasses))\n",
    "    plt.xlabel('Predicted')\n",
    "    plt.ylabel('True')\n",
    "    plt.show()\n",
    "    "
   ]
  },
  {
   "cell_type": "code",
   "execution_count": 59,
   "metadata": {},
   "outputs": [],
   "source": [
    "def printTestAccuracy():\n",
    "    feedDict2={xFlat:data.test.images,yTrue:data.test.labels}\n",
    "\n",
    "    yTrueClassTemp=sess.run(yTrueClass,{yTrue:data.test.labels})\n",
    "    yPredClassTemp=sess.run(yPredClass,{xFlat:data.test.images})\n",
    "    \n",
    "    acc=sess.run(accuracy,feed_dict=feedDict2)\n",
    "    \n",
    "    print(\"Accuracy on test set: {}\".format(acc))\n",
    "    \n",
    "    printConfusionMatrix(yTrueClassTemp,yPredClassTemp)\n",
    "    plot9Errors(yTrueClassTemp,yPredClassTemp)\n",
    "    \n",
    "    \n",
    "    \n",
    "    \n"
   ]
  },
  {
   "cell_type": "code",
   "execution_count": 60,
   "metadata": {},
   "outputs": [
    {
     "data": {
      "text/plain": [
       "<tf.Tensor 'Mean_5:0' shape=() dtype=float32>"
      ]
     },
     "execution_count": 60,
     "metadata": {},
     "output_type": "execute_result"
    }
   ],
   "source": [
    "sess = tf.Session()\n",
    "sess.run(tf.global_variables_initializer())\n",
    "accuracy"
   ]
  },
  {
   "cell_type": "code",
   "execution_count": 61,
   "metadata": {},
   "outputs": [
    {
     "name": "stdout",
     "output_type": "stream",
     "text": [
      "Accuracy on test set: 0.12960000336170197\n",
      "[[  0 566   0 232  11  35   0   0   0 136]\n",
      " [  0 368  11 583   0   6   0   1   0 166]\n",
      " [  3 216  44 613   3  59   0   0   0  94]\n",
      " [  0 147  20 628  13  45   0   2   0 155]\n",
      " [  0 159   0 501   5 157   0   0   0 160]\n",
      " [  0 298   2 261   3  83   0   8   0 237]\n",
      " [  0 284   2 196  22   7   0   0   0 447]\n",
      " [  0 335   0 493   1 153   0   0   0  46]\n",
      " [  0 243   4 456   2 113   0   0   0 156]\n",
      " [  0 271   1 459   0 110   0   0   0 168]]\n"
     ]
    },
    {
     "data": {
      "image/png": "[encoded data removed]",
      "text/plain": [
       "<Figure size 288x288 with 2 Axes>"
      ]
     },
     "metadata": {
      "needs_background": "light"
     },
     "output_type": "display_data"
    },
    {
     "data": {
      "image/png": "[encoded data removed]",
      "text/plain": [
       "<Figure size 432x288 with 9 Axes>"
      ]
     },
     "metadata": {},
     "output_type": "display_data"
    }
   ],
   "source": [
    "printTestAccuracy()"
   ]
  },
  {
   "cell_type": "code",
   "execution_count": 62,
   "metadata": {},
   "outputs": [
    {
     "name": "stdout",
     "output_type": "stream",
     "text": [
      "Accuracy on test set: 0.1378999948501587\n",
      "[[ 47   0  60   0 828   5   0  21  18   1]\n",
      " [  0  42 578   0 259   7   0 248   0   1]\n",
      " [ 41   2 679   0 250   8   0  37  13   2]\n",
      " [ 11   0 490   1 358  48   0  70  30   2]\n",
      " [  0   0 431   0 401  86   0  21  19  24]\n",
      " [  1   3 237   0 492  33   0 115   9   2]\n",
      " [  4   0  92   0 763   5   0  86   2   6]\n",
      " [  4   0 546   0 217 160   0  83  15   3]\n",
      " [  0   0 592   0 214  51   0  54  58   5]\n",
      " [  3   0 316   0 427 125   0  84  19  35]]\n"
     ]
    },
    {
     "data": {
      "image/png": "[encoded data removed]",
      "text/plain": [
       "<Figure size 288x288 with 2 Axes>"
      ]
     },
     "metadata": {
      "needs_background": "light"
     },
     "output_type": "display_data"
    },
    {
     "data": {
      "image/png": "[encoded data removed]",
      "text/plain": [
       "<Figure size 432x288 with 9 Axes>"
      ]
     },
     "metadata": {},
     "output_type": "display_data"
    }
   ],
   "source": [
    "train_writer = tf.summary.FileWriter(logs_path, sess.graph)\n",
    "optimize(1)\n",
    "printTestAccuracy()"
   ]
  },
  {
   "cell_type": "code",
   "execution_count": 63,
   "metadata": {},
   "outputs": [
    {
     "name": "stdout",
     "output_type": "stream",
     "text": [
      "Accuracy on test set: 0.5361999869346619\n",
      "[[ 613    3   53  177   15   54    5   59    0    1]\n",
      " [   0 1074   23   28    0    4    1    0    5    0]\n",
      " [  53   63  807   46   12    9    5    9   23    5]\n",
      " [  38   36  157  576   12   68    6   23   84   10]\n",
      " [   7   31  118   23  640   44   16   40    2   61]\n",
      " [  61   69   88  218   38  334   12   43   22    7]\n",
      " [  91   41  359   99  108   13  222    4   15    6]\n",
      " [  22  135   43   66   32   14    3  662    1   50]\n",
      " [  43  167  168  282   38   46   13   50  151   16]\n",
      " [  17   50   46   86  216   46    5  260    0  283]]\n"
     ]
    },
    {
     "data": {
      "image/png": "[encoded data removed]",
      "text/plain": [
       "<Figure size 288x288 with 2 Axes>"
      ]
     },
     "metadata": {
      "needs_background": "light"
     },
     "output_type": "display_data"
    },
    {
     "data": {
      "image/png": "[encoded data removed]",
      "text/plain": [
       "<Figure size 432x288 with 9 Axes>"
      ]
     },
     "metadata": {},
     "output_type": "display_data"
    }
   ],
   "source": [
    "optimize(9)\n",
    "printTestAccuracy()"
   ]
  },
  {
   "cell_type": "code",
   "execution_count": 64,
   "metadata": {},
   "outputs": [
    {
     "name": "stdout",
     "output_type": "stream",
     "text": [
      "Accuracy on test set: 0.9110999703407288\n",
      "[[ 920    2   14    3    1    4   16    3   13    4]\n",
      " [   0 1098    7    1    3    4    6    1   14    1]\n",
      " [  17    8  924   33    8    3    3   11   24    1]\n",
      " [   2    2   18  899    2   36    5   11   31    4]\n",
      " [   1    5    5    2  923    2    9    5    7   23]\n",
      " [   7    2    1   39    8  777   12    4   32   10]\n",
      " [  17    3    3    0    6   23  899    0    6    1]\n",
      " [   0   10   11    7   16    1    0  939    6   38]\n",
      " [  20    0   17   27   11   40   10    6  826   17]\n",
      " [   7    1    6   12   21    7    0   34   15  906]]\n"
     ]
    },
    {
     "data": {
      "image/png": "[encoded data removed]",
      "text/plain": [
       "<Figure size 288x288 with 2 Axes>"
      ]
     },
     "metadata": {
      "needs_background": "light"
     },
     "output_type": "display_data"
    },
    {
     "data": {
      "image/png": "[encoded data removed]",
      "text/plain": [
       "<Figure size 432x288 with 9 Axes>"
      ]
     },
     "metadata": {},
     "output_type": "display_data"
    }
   ],
   "source": [
    "optimize(90)\n",
    "printTestAccuracy()"
   ]
  },
  {
   "cell_type": "code",
   "execution_count": 65,
   "metadata": {},
   "outputs": [],
   "source": [
    "sess.close()"
   ]
  },
  {
   "cell_type": "markdown",
   "metadata": {},
   "source": []
  }
 ],
 "metadata": {
  "kernelspec": {
   "display_name": "Python 3",
   "language": "python",
   "name": "python3"
  },
  "language_info": {
   "codemirror_mode": {
    "name": "ipython",
    "version": 3
   },
   "file_extension": ".py",
   "mimetype": "text/x-python",
   "name": "python",
   "nbconvert_exporter": "python",
   "pygments_lexer": "ipython3",
   "version": "3.5.6"
  }
 },
 "nbformat": 4,
 "nbformat_minor": 2
}
