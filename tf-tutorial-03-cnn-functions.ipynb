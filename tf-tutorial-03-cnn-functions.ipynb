{
 "cells": [
  {
   "cell_type": "code",
   "execution_count": 1,
   "metadata": {},
   "outputs": [],
   "source": [
    "from tensorflow.examples.tutorials.mnist import input_data\n",
    "import matplotlib.pyplot as plt\n",
    "import tensorflow as tf\n",
    "import numpy as np\n",
    "from sklearn.metrics import confusion_matrix\n",
    "import time\n",
    "import math"
   ]
  },
  {
   "cell_type": "code",
   "execution_count": 3,
   "metadata": {},
   "outputs": [
    {
     "name": "stdout",
     "output_type": "stream",
     "text": [
      "Extracting data/MNIST/train-images-idx3-ubyte.gz\n",
      "Extracting data/MNIST/train-labels-idx1-ubyte.gz\n",
      "Extracting data/MNIST/t10k-images-idx3-ubyte.gz\n",
      "Extracting data/MNIST/t10k-labels-idx1-ubyte.gz\n",
      "Size of:\n",
      "Training set \t\t55000\n",
      "Test set\t\t10000\n",
      "Validation set\t\t5000\n"
     ]
    }
   ],
   "source": [
    "data=input_data.read_data_sets(\"data/MNIST/\",one_hot=True) \n",
    "data.test.cls = tf.argmax(data.test.labels, axis=1)\n",
    "#one_hot= Whether to make the labels into a binary array\n",
    "print(\"Size of:\")\n",
    "print(\"Training set \\t\\t{}\".format(len(data.train.labels)))\n",
    "print(\"Test set\\t\\t{}\".format(len(data.test.labels)))\n",
    "print(\"Validation set\\t\\t{}\".format(len(data.validation.labels)))"
   ]
  },
  {
   "cell_type": "code",
   "execution_count": 4,
   "metadata": {},
   "outputs": [],
   "source": [
    "imgSize=28\n",
    "imgSizeFlat=imgSize*imgSize\n",
    "imgShape=(imgSize,imgSize)\n",
    "noClasses=10\n",
    "noColorChannels=1\n",
    "batchSize=100\n",
    "logs_path = \"./logs/03/visualize_graph\""
   ]
  },
  {
   "cell_type": "code",
   "execution_count": 5,
   "metadata": {},
   "outputs": [],
   "source": [
    "xFlat=tf.placeholder(tf.float32,shape=[None,imgSizeFlat],name='xFlat')\n",
    "x2D=tf.reshape(xFlat,[-1,imgSize,imgSize,noColorChannels])\n",
    "yTrue=tf.placeholder(tf.float32,shape=[None,noClasses],name='yTrue')\n",
    "yTrueClass=tf.argmax(yTrue,axis=1)"
   ]
  },
  {
   "cell_type": "code",
   "execution_count": 8,
   "metadata": {},
   "outputs": [],
   "source": [
    "def convLayer2D(inputTensor,kernelShape,noKernels):\n",
    "    layer1_filterLength=kernelShape[0]\n",
    "    layer1_filterHeight=kernelShape[1]\n",
    "    layer1_noFilters=noKernels\n",
    "    noChannels=tf.shape(inputTensor)[4]\n",
    "\n",
    "    layer1_shape=[layer1_filterLength,layer1_filterHeight,noChannels,layer1_noFilters]\n",
    "    layer1_weights=tf.Variable(tf.truncated_normal(layer1_shape,stddev=0.5))\n",
    "    layer1_biases=tf.Variable(tf.constant(0.05,shape=[layer1_noFilters]))\n",
    "    layer1_out=tf.nn.conv2d(input=x2D,filter=layer1_weights,strides=[1,1,1,1],padding='SAME')\n",
    "    #strides=[img,x,y,colourChannel]\n",
    "    layer1_out=layer1_out+layer1_biases\n",
    "    \n",
    "    return layer1_out\n",
    "\n",
    "\n"
   ]
  },
  {
   "cell_type": "code",
   "execution_count": 9,
   "metadata": {},
   "outputs": [],
   "source": [
    "def maxPoolingLayer(inputTensor,kernelSize):\n",
    "    return tf.nn.max_pool(value=inputTensor,ksize=[1,kernelSize[0],kernelSize[1],1],strides=[1,kernelSize[0],kernelSize[1],1],padding='SAME')\n"
   ]
  },
  {
   "cell_type": "code",
   "execution_count": 10,
   "metadata": {},
   "outputs": [],
   "source": [
    "def relu(inputTensor):    \n",
    "    return tf.nn.relu(layer1_out)"
   ]
  },
  {
   "cell_type": "code",
   "execution_count": 11,
   "metadata": {},
   "outputs": [],
   "source": [
    "def flatten(inputTensor):\n",
    "    layer3_shape=inputTensor.get_shape()  # layer_shape == [num_images, img_height, img_width, num_channels]\n",
    "    layer3_noFeatures=int(layer3_shape[1]*layer3_shape[2]*layer3_shape[3])\n",
    "    layer3_out=tf.reshape(inputTensor,[-1,layer3_noFeatures])\n",
    "    return layer3_out"
   ]
  },
  {
   "cell_type": "code",
   "execution_count": 13,
   "metadata": {},
   "outputs": [],
   "source": [
    "def fullyConnected(inputTensor,outputSize):\n",
    "    layer4_outSize=outputSize\n",
    "    layer4_shape=[layer3_noFeatures,layer4_outSize]\n",
    "    layer4_weights=tf.Variable(tf.truncated_normal(layer4_shape,stddev=0.5))\n",
    "    layer4_biases=tf.Variable(tf.constant(0.05,shape=[layer4_outSize]))\n",
    "    layer4_out=tf.matmul(layer3_out,layer4_weights)+layer4_biases\n",
    "    return layer4_out"
   ]
  },
  {
   "cell_type": "code",
   "execution_count": null,
   "metadata": {},
   "outputs": [],
   "source": []
  }
 ],
 "metadata": {
  "kernelspec": {
   "display_name": "Python 3",
   "language": "python",
   "name": "python3"
  },
  "language_info": {
   "codemirror_mode": {
    "name": "ipython",
    "version": 3
   },
   "file_extension": ".py",
   "mimetype": "text/x-python",
   "name": "python",
   "nbconvert_exporter": "python",
   "pygments_lexer": "ipython3",
   "version": "3.5.6"
  }
 },
 "nbformat": 4,
 "nbformat_minor": 2
}
