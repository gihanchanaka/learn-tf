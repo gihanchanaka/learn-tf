{
 "cells": [
  {
   "cell_type": "code",
   "execution_count": 2,
   "metadata": {},
   "outputs": [],
   "source": [
    "DEBUG=True"
   ]
  },
  {
   "cell_type": "code",
   "execution_count": 3,
   "metadata": {},
   "outputs": [],
   "source": [
    "from tensorflow.examples.tutorials.mnist import input_data\n",
    "import matplotlib.pyplot as plt\n",
    "import tensorflow as tf\n",
    "import numpy as np\n",
    "from sklearn.metrics import confusion_matrix\n",
    "import time\n",
    "import math"
   ]
  },
  {
   "cell_type": "code",
   "execution_count": 4,
   "metadata": {},
   "outputs": [
    {
     "name": "stdout",
     "output_type": "stream",
     "text": [
      "WARNING:tensorflow:From <ipython-input-4-9ab8ca636b1b>:1: read_data_sets (from tensorflow.contrib.learn.python.learn.datasets.mnist) is deprecated and will be removed in a future version.\n",
      "Instructions for updating:\n",
      "Please use alternatives such as official/mnist/dataset.py from tensorflow/models.\n",
      "WARNING:tensorflow:From /home/gihanchanaka/anaconda3/envs/vlc2/lib/python3.5/site-packages/tensorflow/contrib/learn/python/learn/datasets/mnist.py:260: maybe_download (from tensorflow.contrib.learn.python.learn.datasets.base) is deprecated and will be removed in a future version.\n",
      "Instructions for updating:\n",
      "Please write your own downloading logic.\n",
      "WARNING:tensorflow:From /home/gihanchanaka/anaconda3/envs/vlc2/lib/python3.5/site-packages/tensorflow/contrib/learn/python/learn/datasets/mnist.py:262: extract_images (from tensorflow.contrib.learn.python.learn.datasets.mnist) is deprecated and will be removed in a future version.\n",
      "Instructions for updating:\n",
      "Please use tf.data to implement this functionality.\n",
      "Extracting data/MNIST/train-images-idx3-ubyte.gz\n",
      "WARNING:tensorflow:From /home/gihanchanaka/anaconda3/envs/vlc2/lib/python3.5/site-packages/tensorflow/contrib/learn/python/learn/datasets/mnist.py:267: extract_labels (from tensorflow.contrib.learn.python.learn.datasets.mnist) is deprecated and will be removed in a future version.\n",
      "Instructions for updating:\n",
      "Please use tf.data to implement this functionality.\n",
      "Extracting data/MNIST/train-labels-idx1-ubyte.gz\n",
      "WARNING:tensorflow:From /home/gihanchanaka/anaconda3/envs/vlc2/lib/python3.5/site-packages/tensorflow/contrib/learn/python/learn/datasets/mnist.py:110: dense_to_one_hot (from tensorflow.contrib.learn.python.learn.datasets.mnist) is deprecated and will be removed in a future version.\n",
      "Instructions for updating:\n",
      "Please use tf.one_hot on tensors.\n",
      "Extracting data/MNIST/t10k-images-idx3-ubyte.gz\n",
      "Extracting data/MNIST/t10k-labels-idx1-ubyte.gz\n",
      "WARNING:tensorflow:From /home/gihanchanaka/anaconda3/envs/vlc2/lib/python3.5/site-packages/tensorflow/contrib/learn/python/learn/datasets/mnist.py:290: DataSet.__init__ (from tensorflow.contrib.learn.python.learn.datasets.mnist) is deprecated and will be removed in a future version.\n",
      "Instructions for updating:\n",
      "Please use alternatives such as official/mnist/dataset.py from tensorflow/models.\n",
      "Size of:\n",
      "Training set \t\t55000\n",
      "Test set\t\t10000\n",
      "Validation set\t\t5000\n"
     ]
    }
   ],
   "source": [
    "data=input_data.read_data_sets(\"data/MNIST/\",one_hot=True) \n",
    "data.test.cls = tf.argmax(data.test.labels, axis=1)\n",
    "#one_hot= Whether to make the labels into a binary array\n",
    "print(\"Size of:\")\n",
    "print(\"Training set \\t\\t{}\".format(len(data.train.labels)))\n",
    "print(\"Test set\\t\\t{}\".format(len(data.test.labels)))\n",
    "print(\"Validation set\\t\\t{}\".format(len(data.validation.labels)))"
   ]
  },
  {
   "cell_type": "code",
   "execution_count": 5,
   "metadata": {},
   "outputs": [],
   "source": [
    "imgSize=28\n",
    "imgSizeFlat=imgSize*imgSize\n",
    "imgShape=(imgSize,imgSize)\n",
    "noClasses=10\n",
    "noColorChannels=1\n",
    "batchSize=100\n",
    "logs_path = \"./logs/03/visualize_graph\"\n",
    "currentTotalIterations=0\n",
    "sess = tf.Session()"
   ]
  },
  {
   "cell_type": "code",
   "execution_count": 6,
   "metadata": {},
   "outputs": [],
   "source": [
    "xFlat=tf.placeholder(tf.float32,shape=[None,imgSizeFlat],name='xFlat')\n",
    "yTrue=tf.placeholder(tf.float32,shape=[None,noClasses],name='yTrue')\n",
    "yTrueClass=tf.argmax(yTrue,axis=1)"
   ]
  },
  {
   "cell_type": "code",
   "execution_count": 7,
   "metadata": {},
   "outputs": [],
   "source": [
    "def inputLayer(inputTensor,outputShape=None):\n",
    "    if outputShape==None:\n",
    "        outputTensor= inputTensor\n",
    "    else:\n",
    "        #x2D=tf.reshape(xFlat,[-1,imgSize,imgSize,noColorChannels])\n",
    "        inputShape=inputTensor.get_shape()\n",
    "        outputTensor=tf.reshape(inputTensor,[-1,outputShape[0],outputShape[1],1])\n",
    "    \n",
    "    if DEBUG: print(\"DEBUG: Conv layer added with output tensor shape {}\".format(outputTensor.shape))\n",
    "    return outputTensor\n",
    "\n",
    "    "
   ]
  },
  {
   "cell_type": "code",
   "execution_count": 8,
   "metadata": {},
   "outputs": [],
   "source": [
    "def convLayer2D(inputTensor,kernelShape,noKernels,poolingSize=None,activation=None):\n",
    "    filterLength=kernelShape[0]\n",
    "    filterHeight=kernelShape[1]\n",
    "    noFilters=noKernels\n",
    "    inputShape=inputTensor.get_shape()\n",
    "    if DEBUG: print(\"DEBUG: {}\".format(inputShape))\n",
    "    noChannels=int(inputShape[-1])\n",
    "\n",
    "    shape=[filterLength,filterHeight,noChannels,noFilters]\n",
    "    if DEBUG: print(\"DEBUG: Shape of weights {}\".format(shape))\n",
    "\n",
    "    weights=tf.Variable(tf.truncated_normal(shape,stddev=0.5))\n",
    "    biases=tf.Variable(tf.constant(0.05,shape=[noFilters]))\n",
    "    outputTensor=tf.nn.conv2d(input=inputTensor,filter=weights,strides=[1,1,1,1],padding='SAME')\n",
    "    #strides=[img,x,y,colourChannel]\n",
    "    outputTensor=outputTensor+biases\n",
    "    \n",
    "    if poolingSize!=None:\n",
    "        outputTensor=maxPoolingLayer(outputTensor,poolingSize)\n",
    "    if activation=='relu':\n",
    "        outputTensor=relu(outputTensor)\n",
    "    if DEBUG: print(\"DEBUG: Conv layer added with output tensor shape {}\".format(outputTensor.shape))\n",
    "    return outputTensor\n",
    "\n",
    "\n"
   ]
  },
  {
   "cell_type": "code",
   "execution_count": 9,
   "metadata": {},
   "outputs": [],
   "source": [
    "def maxPoolingLayer(inputTensor,kernelSize):\n",
    "    return tf.nn.max_pool(value=inputTensor,ksize=[1,kernelSize[0],kernelSize[1],1],strides=[1,kernelSize[0],kernelSize[1],1],padding='SAME')\n"
   ]
  },
  {
   "cell_type": "code",
   "execution_count": 10,
   "metadata": {},
   "outputs": [],
   "source": [
    "def relu(inputTensor):    \n",
    "    return tf.nn.relu(inputTensor)"
   ]
  },
  {
   "cell_type": "code",
   "execution_count": 11,
   "metadata": {},
   "outputs": [],
   "source": [
    "def flatten(inputTensor):\n",
    "    shape=inputTensor.get_shape()  # layer_shape == [num_images, img_height, img_width, num_channels]\n",
    "    noFeatures=int(shape[1]*shape[2]*shape[3])\n",
    "    outputTensor=tf.reshape(inputTensor,[-1,noFeatures])\n",
    "    return outputTensor"
   ]
  },
  {
   "cell_type": "code",
   "execution_count": 12,
   "metadata": {},
   "outputs": [],
   "source": [
    "def fullyConnectedLayer(inputTensor,outputSize):\n",
    "    inputShape=inputTensor.get_shape()\n",
    "    shape=[int(inputShape[1]),outputSize]\n",
    "    weights=tf.Variable(tf.truncated_normal(shape,stddev=0.5))\n",
    "    biases=tf.Variable(tf.constant(0.05,shape=[outputSize]))\n",
    "    outputTensor=tf.matmul(inputTensor,weights)+biases\n",
    "    if DEBUG: print(\"DEBUG: Added fully connected layer with output shape {}.\".format(outputTensor.shape))\n",
    "    return outputTensor"
   ]
  },
  {
   "cell_type": "code",
   "execution_count": 13,
   "metadata": {},
   "outputs": [],
   "source": [
    "def buildNetwork(outputTensor,targetTensor):\n",
    "    crossEntropy=tf.nn.softmax_cross_entropy_with_logits_v2(logits=outputTensor,labels=targetTensor)\n",
    "    cost=tf.reduce_mean(crossEntropy)\n",
    "    optimizer=tf.train.AdamOptimizer(learning_rate=0.01).minimize(cost)\n",
    "    yPredClass=tf.argmax(outputTensor,axis=1)\n",
    "    correctPrediction=tf.equal(yPredClass,yTrueClass)\n",
    "    accuracy=tf.reduce_mean(tf.cast(correctPrediction,tf.float32))\n",
    "    sess.run(tf.global_variables_initializer())\n",
    "    if DEBUG: print(\"DEBUG: Completed building network\")\n",
    "    return outputTensor,optimizer,accuracy\n",
    "\n",
    "def train(optimizer,noIterations,accuracy):\n",
    "    global currentTotalIterations\n",
    "    \n",
    "    for it in range(currentTotalIterations,currentTotalIterations+noIterations):\n",
    "        #xBatch,yTrueBatch=data.random_batch(batch_size=batchSize)\n",
    "        #sess.run(optimizer,feed_dict={x:xBatch,y:yTrueBatch})\n",
    "        \n",
    "        sess.run(optimizer,feed_dict={xFlat:data.train.images,yTrue:data.train.labels})\n",
    "        \n",
    "        if it%20 == 0:\n",
    "            feedDict2={xFlat:data.train.images,yTrue:data.train.labels}\n",
    "            acc=sess.run(accuracy,feed_dict=feedDict2)\n",
    "            print(\"Training iteration {} : accuracy {}.\".format(it+1,acc))\n",
    "    \n",
    "    currentTotalIterations+=noIterations"
   ]
  },
  {
   "cell_type": "code",
   "execution_count": 14,
   "metadata": {},
   "outputs": [],
   "source": [
    "def plotImages(images,clsTarget,clsPred=None):\n",
    "    #print(\"DEBUG:{}\".format(len(images)))\n",
    "    assert len(images)==len(clsTarget)==9\n",
    "    fig,axes=plt.subplots(3,3)\n",
    "    fig.subplots_adjust(hspace=0.4,wspace=0.4)\n",
    "    \n",
    "    for idx,ax in enumerate(axes.flat):\n",
    "        ax.imshow(images[idx].reshape(imgShape),cmap='binary')\n",
    "        if clsPred.all()==None:\n",
    "            ax.set_xlabel(\"True: {}\".format(clsTarget[idx]))\n",
    "        else:\n",
    "            ax.set_xlabel(\"True: {} Predicted: {}\".format(np.argmax(clsTarget[idx]),clsPred[idx]))\n",
    "            \n",
    "        ax.set_xticks([])\n",
    "        ax.set_yticks([])\n",
    "\n",
    "        \n",
    "def plot9Errors(yTrueClass,yPredClass):\n",
    "    correct=np.equal(yTrueClass,yPredClass)\n",
    "    incorrect = (correct == False)\n",
    "    images = data.test.images[incorrect]\n",
    "    yPredClass = yPredClass[incorrect]\n",
    "\n",
    "    # Get the true classes for those images.\n",
    "    yTrueClass = data.test.labels[incorrect]\n",
    "    \n",
    "    # Plot the first 9 images.\n",
    "    plotImages(images=images[0:9,:],\n",
    "               clsPred=yPredClass[0:9], \n",
    "               clsTarget=yTrueClass[0:9]\n",
    "                )\n",
    "\n",
    "def printConfusionMatrix(yTrueTemp,yPredTemp):\n",
    "    cm=confusion_matrix(y_true=yTrueTemp,y_pred=yPredTemp)\n",
    "    print(cm)\n",
    "    plt.matshow(cm)\n",
    "    plt.colorbar()\n",
    "    tick_marks = np.arange(noClasses)\n",
    "    plt.xticks(tick_marks, range(noClasses))\n",
    "    plt.yticks(tick_marks, range(noClasses))\n",
    "    plt.xlabel('Predicted')\n",
    "    plt.ylabel('True')\n",
    "    plt.show()\n",
    "    \n",
    "    \n",
    "def printTestAccuracy(yPred,accuracy):\n",
    "    yPredClass=tf.argmax(yPred,axis=1)\n",
    "    feedDict2={xFlat:data.test.images,yTrue:data.test.labels}\n",
    "\n",
    "    yTrueClassTemp=sess.run(yTrueClass,{yTrue:data.test.labels})\n",
    "    yPredClassTemp=sess.run(yPredClass,{xFlat:data.test.images})\n",
    "    \n",
    "    acc=sess.run(accuracy,feed_dict=feedDict2)\n",
    "    \n",
    "    print(\"Accuracy on test set: {}\".format(acc))\n",
    "    \n",
    "    printConfusionMatrix(yTrueClassTemp,yPredClassTemp)\n",
    "    plot9Errors(yTrueClassTemp,yPredClassTemp)\n",
    "    "
   ]
  },
  {
   "cell_type": "code",
   "execution_count": 15,
   "metadata": {},
   "outputs": [
    {
     "name": "stdout",
     "output_type": "stream",
     "text": [
      "DEBUG: Conv layer added with output tensor shape (?, 28, 28, 1)\n",
      "DEBUG: (?, 28, 28, 1)\n",
      "DEBUG: Shape of weights [5, 5, 1, 16]\n",
      "DEBUG: Conv layer added with output tensor shape (?, 14, 14, 16)\n",
      "DEBUG: (?, 14, 14, 16)\n",
      "DEBUG: Shape of weights [5, 5, 16, 36]\n",
      "DEBUG: Conv layer added with output tensor shape (?, 7, 7, 36)\n",
      "DEBUG: Added fully connected layer with output shape (?, 128).\n",
      "DEBUG: Added fully connected layer with output shape (?, 10).\n",
      "DEBUG: Completed building network\n"
     ]
    }
   ],
   "source": [
    "nn=inputLayer(xFlat,[28,28])\n",
    "nn=convLayer2D(nn,[5,5],16,poolingSize=[2,2],activation='relu')\n",
    "nn=convLayer2D(nn,[5,5],36,poolingSize=[2,2],activation='relu')\n",
    "nn=flatten(nn)\n",
    "nn=fullyConnectedLayer(nn,128)\n",
    "nn=fullyConnectedLayer(nn,10)\n",
    "nn,opt,acc=buildNetwork(nn,yTrue)\n",
    "\n"
   ]
  },
  {
   "cell_type": "code",
   "execution_count": 16,
   "metadata": {},
   "outputs": [
    {
     "name": "stdout",
     "output_type": "stream",
     "text": [
      "Accuracy on test set: 0.07240000367164612\n",
      "[[100   0   1 359   0   3   5  10 502   0]\n",
      " [161   6  11 370   0   2 550  27   2   6]\n",
      " [175  11  12 567  19   4  43   1 200   0]\n",
      " [284   0  12 151   1   3 216   2 341   0]\n",
      " [219   0  24 252 106  29  64   5 282   1]\n",
      " [184   2   2  98  12   3  85   1 505   0]\n",
      " [523   5   0 212  24   8  70  14 102   0]\n",
      " [ 66   1  35 119   9  44  12   0 742   0]\n",
      " [337   0   1  69  13   4 263  12 275   0]\n",
      " [176   0  26  55  65  59  58  18 551   1]]\n"
     ]
    },
    {
     "data": {
      "image/png": "[encoded data removed]",
      "text/plain": [
       "<Figure size 288x288 with 2 Axes>"
      ]
     },
     "metadata": {
      "needs_background": "light"
     },
     "output_type": "display_data"
    },
    {
     "data": {
      "image/png": "[encoded data removed]",
      "text/plain": [
       "<Figure size 432x288 with 9 Axes>"
      ]
     },
     "metadata": {},
     "output_type": "display_data"
    }
   ],
   "source": [
    "printTestAccuracy(nn,acc)"
   ]
  },
  {
   "cell_type": "code",
   "execution_count": 16,
   "metadata": {},
   "outputs": [
    {
     "name": "stdout",
     "output_type": "stream",
     "text": [
      "Training iteration 1 : accuracy 0.178327277302742.\n"
     ]
    }
   ],
   "source": [
    "train(opt,1,acc)"
   ]
  },
  {
   "cell_type": "code",
   "execution_count": null,
   "metadata": {},
   "outputs": [],
   "source": [
    "train(opt,10,acc)"
   ]
  },
  {
   "cell_type": "code",
   "execution_count": null,
   "metadata": {},
   "outputs": [],
   "source": [
    "sess.close()"
   ]
  }
 ],
 "metadata": {
  "kernelspec": {
   "display_name": "Python 3",
   "language": "python",
   "name": "python3"
  },
  "language_info": {
   "codemirror_mode": {
    "name": "ipython",
    "version": 3
   },
   "file_extension": ".py",
   "mimetype": "text/x-python",
   "name": "python",
   "nbconvert_exporter": "python",
   "pygments_lexer": "ipython3",
   "version": "3.5.6"
  }
 },
 "nbformat": 4,
 "nbformat_minor": 2
}
