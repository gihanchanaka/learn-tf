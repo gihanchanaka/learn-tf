{
 "cells": [
  {
   "cell_type": "code",
   "execution_count": 27,
   "metadata": {},
   "outputs": [],
   "source": [
    "from tensorflow.examples.tutorials.mnist import input_data\n",
    "import numpy as np\n",
    "import matplotlib.pyplot as plt\n",
    "import tensorflow as tf"
   ]
  },
  {
   "cell_type": "code",
   "execution_count": 5,
   "metadata": {},
   "outputs": [
    {
     "name": "stdout",
     "output_type": "stream",
     "text": [
      "Extracting data/MNIST/train-images-idx3-ubyte.gz\n",
      "Extracting data/MNIST/train-labels-idx1-ubyte.gz\n",
      "Extracting data/MNIST/t10k-images-idx3-ubyte.gz\n",
      "Extracting data/MNIST/t10k-labels-idx1-ubyte.gz\n"
     ]
    }
   ],
   "source": [
    "data=input_data.read_data_sets(\"data/MNIST/\",one_hot=True) \n",
    "#one_hot= Whether to make the labels into a binary array"
   ]
  },
  {
   "cell_type": "code",
   "execution_count": 7,
   "metadata": {},
   "outputs": [
    {
     "name": "stdout",
     "output_type": "stream",
     "text": [
      "Size of:\n",
      "Training set \t\t55000\n",
      "Test set\t\t10000\n",
      "Validation set\t\t5000\n"
     ]
    }
   ],
   "source": [
    "print(\"Size of:\")\n",
    "print(\"Training set \\t\\t{}\".format(len(data.train.labels)))\n",
    "print(\"Test set\\t\\t{}\".format(len(data.test.labels)))\n",
    "print(\"Validation set\\t\\t{}\".format(len(data.validation.labels)))"
   ]
  },
  {
   "cell_type": "code",
   "execution_count": 45,
   "metadata": {},
   "outputs": [],
   "source": [
    "data.test.cls=np.array([label.argmax() for label in data.test.labels])"
   ]
  },
  {
   "cell_type": "code",
   "execution_count": 34,
   "metadata": {},
   "outputs": [],
   "source": [
    "imgSize=28\n",
    "imgSizeFlat=imgSize*imgSize\n",
    "imgShape=(imgSize,imgSize)\n",
    "noClasses=10\n",
    "batchSize=100"
   ]
  },
  {
   "cell_type": "code",
   "execution_count": 25,
   "metadata": {},
   "outputs": [],
   "source": [
    "def plotImages(images,clsTarget,clsPred=None):\n",
    "    assert len(images)==len(clsTarget)==9\n",
    "    fig,axes=plt.subplots(3,3)\n",
    "    fig.subplots_adjust(hspace=0.4,wspace=0.4)\n",
    "    \n",
    "    for idx,ax in enumerate(axes.flat):\n",
    "        ax.imshow(images[idx].reshape(imgShape),cmap='binary')\n",
    "        if clsPred==None:\n",
    "            ax.set_xlabel(\"True: {}\".format(clsTarget[idx]))\n",
    "        else:\n",
    "            ax.set_xlabel(\"True: {} Predicted: {}\".format(clsTarget[idx],clsPred[idx]))\n",
    "            \n",
    "        ax.set_xticks([])\n",
    "        ax.set_yticks([])\n",
    "        \n",
    "        \n",
    "    \n"
   ]
  },
  {
   "cell_type": "code",
   "execution_count": 26,
   "metadata": {},
   "outputs": [
    {
     "data": {
      "image/png": "[encoded data removed]",
      "text/plain": [
       "<Figure size 432x288 with 9 Axes>"
      ]
     },
     "metadata": {},
     "output_type": "display_data"
    }
   ],
   "source": [
    "images=data.test.images[0:9]\n",
    "clsTarget=data.test.labels[0:9]\n",
    "plotImages(images,clsTarget)"
   ]
  },
  {
   "cell_type": "code",
   "execution_count": 35,
   "metadata": {},
   "outputs": [],
   "source": [
    "x=tf.placeholder(tf.float32,[None,imgSizeFlat])#(dataType,[dataCount,dataSize])\n",
    "yTarget=tf.placeholder(tf.float32,[None,noClasses])\n",
    "yTargetClass=tf.placeholder(tf.int32,[None])\n",
    "w=tf.Variable(tf.zeros([imgSizeFlat,noClasses]))\n",
    "b=tf.Variable(tf.zeros([noClasses]))\n",
    "\n",
    "wxb=tf.matmul(x,w)+b\n",
    "yPred=tf.nn.softmax(wxb)\n",
    "yPredClass=tf.argmax(yPred,axis=1)\n",
    "\n"
   ]
  },
  {
   "cell_type": "code",
   "execution_count": 36,
   "metadata": {},
   "outputs": [],
   "source": [
    "crossEntropy=tf.nn.softmax_cross_entropy_with_logits(logits=wxb,labels=yTarget)\n",
    "cost=tf.reduce_mean(crossEntropy)\n",
    "optimizer=tf.train.GradientDescentOptimizer(learning_rate=0.5).minimize(cost)"
   ]
  },
  {
   "cell_type": "code",
   "execution_count": 38,
   "metadata": {},
   "outputs": [],
   "source": [
    "ses=tf.Session()\n",
    "ses.run(tf.global_variables_initializer())"
   ]
  },
  {
   "cell_type": "code",
   "execution_count": 39,
   "metadata": {},
   "outputs": [],
   "source": [
    "def optimizer(noIterations):\n",
    "    for i in range(noIterations):\n",
    "        xBatch,yTargetBatch=data.train.next_batch(batch_size)\n",
    "        feedDictTrain={x:xBatch,yTarget:yTargetBatch} \n",
    "        #Putting the batch into a dictionary with placeholder variable names\n",
    "        ses.run(optimizer,feed_dict=feedDictTrain)\n",
    "        "
   ]
  },
  {
   "cell_type": "code",
   "execution_count": 46,
   "metadata": {},
   "outputs": [],
   "source": [
    "feedDictTest={x : data.test.images,\n",
    "            yTarget : data.test.labels,\n",
    "            yTargetClass : data.test.cls}\n",
    "\n",
    "def printAccuracy():\n",
    "    acc=ses.run(accuracy,feed_dict=feedDictTest)\n",
    "    print(\"Accuracy on test set: {}\".format(acc))\n",
    "\n",
    "def printConfusionMatrix():\n",
    "    classTarget=data.y_test_cls\n",
    "    classPred=ses.run(yPredClass,feed_dict=feedDictTest)\n",
    "    confMat=confusion_matrix(y_true=classTarget,y_pred=classPred)#sklearn\n",
    "    print(confMat)\n",
    "    \n",
    "    \n",
    "    plt.imshow(cm, interpolation='nearest', cmap=plt.cm.Blues)\n",
    "    # Make various adjustments to the plot.\n",
    "    plt.tight_layout()\n",
    "    plt.colorbar()\n",
    "    tick_marks = np.arange(num_classes)\n",
    "    plt.xticks(tick_marks, range(num_classes))\n",
    "    plt.yticks(tick_marks, range(num_classes))\n",
    "    plt.xlabel('Predicted')\n",
    "    plt.ylabel('True')\n",
    "    \n",
    "    # Ensure the plot is shown correctly with multiple plots\n",
    "    # in a single Notebook cell.\n",
    "    plt.show()"
   ]
  },
  {
   "cell_type": "code",
   "execution_count": 41,
   "metadata": {},
   "outputs": [],
   "source": [
    "def plot9Errors():\n",
    "    correct, clsPred = session.run([correct_prediction, y_pred_cls],\n",
    "                                    feed_dict=feedDictTest)\n",
    "    incorrect = (correct == False)\n",
    "    images = data.x_test[incorrect]\n",
    "    clsPred = clsPred[incorrect]\n",
    "\n",
    "    # Get the true classes for those images.\n",
    "    clsTrue = data.y_test_cls[incorrect]\n",
    "    \n",
    "    # Plot the first 9 images.\n",
    "    plot_images(images=images[0:9],\n",
    "                clsTrue=clstrue[0:9],\n",
    "                clsPred=clsPred[0:9])\n",
    "    "
   ]
  },
  {
   "cell_type": "code",
   "execution_count": null,
   "metadata": {},
   "outputs": [],
   "source": []
  }
 ],
 "metadata": {
  "kernelspec": {
   "display_name": "Python 3",
   "language": "python",
   "name": "python3"
  },
  "language_info": {
   "codemirror_mode": {
    "name": "ipython",
    "version": 3
   },
   "file_extension": ".py",
   "mimetype": "text/x-python",
   "name": "python",
   "nbconvert_exporter": "python",
   "pygments_lexer": "ipython3",
   "version": "3.5.6"
  }
 },
 "nbformat": 4,
 "nbformat_minor": 2
}
